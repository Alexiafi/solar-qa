{
 "cells": [
  {
   "cell_type": "code",
   "execution_count": 1,
   "id": "97972a66-4f53-44e5-8ec5-b6dac2fcb1af",
   "metadata": {},
   "outputs": [
    {
     "name": "stdout",
     "output_type": "stream",
     "text": [
      "\u001b[33mWARNING: The directory '/home/jovyan/.cache/pip' or its parent directory is not owned or is not writable by the current user. The cache has been disabled. Check the permissions and owner of that directory. If executing pip with sudo, you should use sudo's -H flag.\u001b[0m\u001b[33m\n",
      "\u001b[0mCollecting langchain\n",
      "  Downloading langchain-0.1.16-py3-none-any.whl (817 kB)\n",
      "\u001b[2K     \u001b[90m━━━━━━━━━━━━━━━━━━━━━━━━━━━━━━━━━━━━━━\u001b[0m \u001b[32m817.7/817.7 kB\u001b[0m \u001b[31m32.5 MB/s\u001b[0m eta \u001b[36m0:00:00\u001b[0m\n",
      "\u001b[?25hCollecting jsonpatch<2.0,>=1.33\n",
      "  Downloading jsonpatch-1.33-py2.py3-none-any.whl (12 kB)\n",
      "Collecting pydantic<3,>=1\n",
      "  Downloading pydantic-2.7.1-py3-none-any.whl (409 kB)\n",
      "\u001b[2K     \u001b[90m━━━━━━━━━━━━━━━━━━━━━━━━━━━━━━━━━━━━━━\u001b[0m \u001b[32m409.3/409.3 kB\u001b[0m \u001b[31m65.0 MB/s\u001b[0m eta \u001b[36m0:00:00\u001b[0m\n",
      "\u001b[?25hRequirement already satisfied: SQLAlchemy<3,>=1.4 in /opt/conda/lib/python3.10/site-packages (from langchain) (1.4.41)\n",
      "Requirement already satisfied: requests<3,>=2 in /opt/conda/lib/python3.10/site-packages (from langchain) (2.28.1)\n",
      "Collecting langsmith<0.2.0,>=0.1.17\n",
      "  Downloading langsmith-0.1.50-py3-none-any.whl (115 kB)\n",
      "\u001b[2K     \u001b[90m━━━━━━━━━━━━━━━━━━━━━━━━━━━━━━━━━━━━━━\u001b[0m \u001b[32m115.5/115.5 kB\u001b[0m \u001b[31m62.9 MB/s\u001b[0m eta \u001b[36m0:00:00\u001b[0m\n",
      "\u001b[?25hCollecting langchain-core<0.2.0,>=0.1.42\n",
      "  Downloading langchain_core-0.1.45-py3-none-any.whl (291 kB)\n",
      "\u001b[2K     \u001b[90m━━━━━━━━━━━━━━━━━━━━━━━━━━━━━━━━━━━━━━\u001b[0m \u001b[32m291.3/291.3 kB\u001b[0m \u001b[31m85.9 MB/s\u001b[0m eta \u001b[36m0:00:00\u001b[0m\n",
      "\u001b[?25hRequirement already satisfied: numpy<2,>=1 in /opt/conda/lib/python3.10/site-packages (from langchain) (1.22.4)\n",
      "Collecting aiohttp<4.0.0,>=3.8.3\n",
      "  Downloading aiohttp-3.9.5-cp310-cp310-manylinux_2_17_x86_64.manylinux2014_x86_64.whl (1.2 MB)\n",
      "\u001b[2K     \u001b[90m━━━━━━━━━━━━━━━━━━━━━━━━━━━━━━━━━━━━━━━━\u001b[0m \u001b[32m1.2/1.2 MB\u001b[0m \u001b[31m72.7 MB/s\u001b[0m eta \u001b[36m0:00:00\u001b[0m\n",
      "\u001b[?25hRequirement already satisfied: async-timeout<5.0.0,>=4.0.0 in /opt/conda/lib/python3.10/site-packages (from langchain) (4.0.2)\n",
      "Collecting dataclasses-json<0.7,>=0.5.7\n",
      "  Downloading dataclasses_json-0.6.4-py3-none-any.whl (28 kB)\n",
      "Collecting langchain-community<0.1,>=0.0.32\n",
      "  Downloading langchain_community-0.0.34-py3-none-any.whl (1.9 MB)\n",
      "\u001b[2K     \u001b[90m━━━━━━━━━━━━━━━━━━━━━━━━━━━━━━━━━━━━━━━━\u001b[0m \u001b[32m1.9/1.9 MB\u001b[0m \u001b[31m100.7 MB/s\u001b[0m eta \u001b[36m0:00:00\u001b[0m\n",
      "\u001b[?25hRequirement already satisfied: PyYAML>=5.3 in /opt/conda/lib/python3.10/site-packages (from langchain) (6.0)\n",
      "Collecting tenacity<9.0.0,>=8.1.0\n",
      "  Downloading tenacity-8.2.3-py3-none-any.whl (24 kB)\n",
      "Collecting langchain-text-splitters<0.1,>=0.0.1\n",
      "  Downloading langchain_text_splitters-0.0.1-py3-none-any.whl (21 kB)\n",
      "Requirement already satisfied: frozenlist>=1.1.1 in /opt/conda/lib/python3.10/site-packages (from aiohttp<4.0.0,>=3.8.3->langchain) (1.3.1)\n",
      "Requirement already satisfied: aiosignal>=1.1.2 in /opt/conda/lib/python3.10/site-packages (from aiohttp<4.0.0,>=3.8.3->langchain) (1.2.0)\n",
      "Requirement already satisfied: yarl<2.0,>=1.0 in /opt/conda/lib/python3.10/site-packages (from aiohttp<4.0.0,>=3.8.3->langchain) (1.7.2)\n",
      "Requirement already satisfied: attrs>=17.3.0 in /opt/conda/lib/python3.10/site-packages (from aiohttp<4.0.0,>=3.8.3->langchain) (22.1.0)\n",
      "Requirement already satisfied: multidict<7.0,>=4.5 in /opt/conda/lib/python3.10/site-packages (from aiohttp<4.0.0,>=3.8.3->langchain) (6.0.2)\n",
      "Collecting typing-inspect<1,>=0.4.0\n",
      "  Downloading typing_inspect-0.9.0-py3-none-any.whl (8.8 kB)\n",
      "Collecting marshmallow<4.0.0,>=3.18.0\n",
      "  Downloading marshmallow-3.21.1-py3-none-any.whl (49 kB)\n",
      "\u001b[2K     \u001b[90m━━━━━━━━━━━━━━━━━━━━━━━━━━━━━━━━━━━━━━━\u001b[0m \u001b[32m49.4/49.4 kB\u001b[0m \u001b[31m215.1 MB/s\u001b[0m eta \u001b[36m0:00:00\u001b[0m\n",
      "\u001b[?25hCollecting jsonpointer>=1.9\n",
      "  Downloading jsonpointer-2.4-py2.py3-none-any.whl (7.8 kB)\n",
      "Requirement already satisfied: packaging<24.0,>=23.2 in /opt/conda/lib/python3.10/site-packages (from langchain-core<0.2.0,>=0.1.42->langchain) (23.2)\n",
      "Collecting orjson<4.0.0,>=3.9.14\n",
      "  Downloading orjson-3.10.1-cp310-cp310-manylinux_2_17_x86_64.manylinux2014_x86_64.whl (141 kB)\n",
      "\u001b[2K     \u001b[90m━━━━━━━━━━━━━━━━━━━━━━━━━━━━━━━━━━━━━━\u001b[0m \u001b[32m141.1/141.1 kB\u001b[0m \u001b[31m62.0 MB/s\u001b[0m eta \u001b[36m0:00:00\u001b[0m\n",
      "\u001b[?25hCollecting typing-extensions>=4.6.1\n",
      "  Downloading typing_extensions-4.11.0-py3-none-any.whl (34 kB)\n",
      "Collecting annotated-types>=0.4.0\n",
      "  Downloading annotated_types-0.6.0-py3-none-any.whl (12 kB)\n",
      "Collecting pydantic-core==2.18.2\n",
      "  Downloading pydantic_core-2.18.2-cp310-cp310-manylinux_2_17_x86_64.manylinux2014_x86_64.whl (2.1 MB)\n",
      "\u001b[2K     \u001b[90m━━━━━━━━━━━━━━━━━━━━━━━━━━━━━━━━━━━━━━━━\u001b[0m \u001b[32m2.1/2.1 MB\u001b[0m \u001b[31m31.8 MB/s\u001b[0m eta \u001b[36m0:00:00\u001b[0ma \u001b[36m0:00:01\u001b[0m\n",
      "\u001b[?25hRequirement already satisfied: charset-normalizer<3,>=2 in /opt/conda/lib/python3.10/site-packages (from requests<3,>=2->langchain) (2.1.1)\n",
      "Requirement already satisfied: certifi>=2017.4.17 in /opt/conda/lib/python3.10/site-packages (from requests<3,>=2->langchain) (2022.6.15.1)\n",
      "Requirement already satisfied: idna<4,>=2.5 in /opt/conda/lib/python3.10/site-packages (from requests<3,>=2->langchain) (3.3)\n",
      "Requirement already satisfied: urllib3<1.27,>=1.21.1 in /opt/conda/lib/python3.10/site-packages (from requests<3,>=2->langchain) (1.26.11)\n",
      "Requirement already satisfied: greenlet!=0.4.17 in /opt/conda/lib/python3.10/site-packages (from SQLAlchemy<3,>=1.4->langchain) (1.1.3)\n",
      "Requirement already satisfied: mypy-extensions>=0.3.0 in /opt/conda/lib/python3.10/site-packages (from typing-inspect<1,>=0.4.0->dataclasses-json<0.7,>=0.5.7->langchain) (1.0.0)\n",
      "Installing collected packages: typing-extensions, tenacity, orjson, marshmallow, jsonpointer, annotated-types, typing-inspect, pydantic-core, jsonpatch, aiohttp, pydantic, dataclasses-json, langsmith, langchain-core, langchain-text-splitters, langchain-community, langchain\n",
      "  Attempting uninstall: typing-extensions\n",
      "    Found existing installation: typing_extensions 4.3.0\n",
      "    Uninstalling typing_extensions-4.3.0:\n",
      "      Successfully uninstalled typing_extensions-4.3.0\n",
      "  Attempting uninstall: aiohttp\n",
      "    Found existing installation: aiohttp 3.8.1\n",
      "    Uninstalling aiohttp-3.8.1:\n",
      "      Successfully uninstalled aiohttp-3.8.1\n",
      "Successfully installed aiohttp-3.9.5 annotated-types-0.6.0 dataclasses-json-0.6.4 jsonpatch-1.33 jsonpointer-2.4 langchain-0.1.16 langchain-community-0.0.34 langchain-core-0.1.45 langchain-text-splitters-0.0.1 langsmith-0.1.50 marshmallow-3.21.1 orjson-3.10.1 pydantic-2.7.1 pydantic-core-2.18.2 tenacity-8.2.3 typing-extensions-4.11.0 typing-inspect-0.9.0\n",
      "\u001b[33mWARNING: Running pip as the 'root' user can result in broken permissions and conflicting behaviour with the system package manager. It is recommended to use a virtual environment instead: https://pip.pypa.io/warnings/venv\u001b[0m\u001b[33m\n",
      "\u001b[0m\u001b[33mWARNING: The directory '/home/jovyan/.cache/pip' or its parent directory is not owned or is not writable by the current user. The cache has been disabled. Check the permissions and owner of that directory. If executing pip with sudo, you should use sudo's -H flag.\u001b[0m\u001b[33m\n",
      "\u001b[0mCollecting langchain-openai\n",
      "  Downloading langchain_openai-0.1.3-py3-none-any.whl (33 kB)\n",
      "Requirement already satisfied: langchain-core<0.2.0,>=0.1.42 in /opt/conda/lib/python3.10/site-packages (from langchain-openai) (0.1.45)\n",
      "Collecting openai<2.0.0,>=1.10.0\n",
      "  Downloading openai-1.23.6-py3-none-any.whl (311 kB)\n",
      "\u001b[2K     \u001b[90m━━━━━━━━━━━━━━━━━━━━━━━━━━━━━━━━━━━━━━\u001b[0m \u001b[32m311.6/311.6 kB\u001b[0m \u001b[31m16.6 MB/s\u001b[0m eta \u001b[36m0:00:00\u001b[0m\n",
      "\u001b[?25hCollecting tiktoken<1,>=0.5.2\n",
      "  Downloading tiktoken-0.6.0-cp310-cp310-manylinux_2_17_x86_64.manylinux2014_x86_64.whl (1.8 MB)\n",
      "\u001b[2K     \u001b[90m━━━━━━━━━━━━━━━━━━━━━━━━━━━━━━━━━━━━━━━━\u001b[0m \u001b[32m1.8/1.8 MB\u001b[0m \u001b[31m17.8 MB/s\u001b[0m eta \u001b[36m0:00:00\u001b[0ma \u001b[36m0:00:01\u001b[0m\n",
      "\u001b[?25hRequirement already satisfied: PyYAML>=5.3 in /opt/conda/lib/python3.10/site-packages (from langchain-core<0.2.0,>=0.1.42->langchain-openai) (6.0)\n",
      "Requirement already satisfied: jsonpatch<2.0,>=1.33 in /opt/conda/lib/python3.10/site-packages (from langchain-core<0.2.0,>=0.1.42->langchain-openai) (1.33)\n",
      "Requirement already satisfied: tenacity<9.0.0,>=8.1.0 in /opt/conda/lib/python3.10/site-packages (from langchain-core<0.2.0,>=0.1.42->langchain-openai) (8.2.3)\n",
      "Requirement already satisfied: pydantic<3,>=1 in /opt/conda/lib/python3.10/site-packages (from langchain-core<0.2.0,>=0.1.42->langchain-openai) (2.7.1)\n",
      "Requirement already satisfied: packaging<24.0,>=23.2 in /opt/conda/lib/python3.10/site-packages (from langchain-core<0.2.0,>=0.1.42->langchain-openai) (23.2)\n",
      "Requirement already satisfied: langsmith<0.2.0,>=0.1.0 in /opt/conda/lib/python3.10/site-packages (from langchain-core<0.2.0,>=0.1.42->langchain-openai) (0.1.50)\n",
      "Requirement already satisfied: sniffio in /opt/conda/lib/python3.10/site-packages (from openai<2.0.0,>=1.10.0->langchain-openai) (1.3.0)\n",
      "Collecting distro<2,>=1.7.0\n",
      "  Downloading distro-1.9.0-py3-none-any.whl (20 kB)\n",
      "Requirement already satisfied: anyio<5,>=3.5.0 in /opt/conda/lib/python3.10/site-packages (from openai<2.0.0,>=1.10.0->langchain-openai) (3.6.1)\n",
      "Collecting httpx<1,>=0.23.0\n",
      "  Downloading httpx-0.27.0-py3-none-any.whl (75 kB)\n",
      "\u001b[2K     \u001b[90m━━━━━━━━━━━━━━━━━━━━━━━━━━━━━━━━━━━━━━━━\u001b[0m \u001b[32m75.6/75.6 kB\u001b[0m \u001b[31m17.2 MB/s\u001b[0m eta \u001b[36m0:00:00\u001b[0m\n",
      "\u001b[?25hRequirement already satisfied: typing-extensions<5,>=4.7 in /opt/conda/lib/python3.10/site-packages (from openai<2.0.0,>=1.10.0->langchain-openai) (4.11.0)\n",
      "Requirement already satisfied: tqdm>4 in /opt/conda/lib/python3.10/site-packages (from openai<2.0.0,>=1.10.0->langchain-openai) (4.64.1)\n",
      "Requirement already satisfied: requests>=2.26.0 in /opt/conda/lib/python3.10/site-packages (from tiktoken<1,>=0.5.2->langchain-openai) (2.28.1)\n",
      "Requirement already satisfied: regex>=2022.1.18 in /opt/conda/lib/python3.10/site-packages (from tiktoken<1,>=0.5.2->langchain-openai) (2023.12.25)\n",
      "Requirement already satisfied: idna>=2.8 in /opt/conda/lib/python3.10/site-packages (from anyio<5,>=3.5.0->openai<2.0.0,>=1.10.0->langchain-openai) (3.3)\n",
      "Collecting httpcore==1.*\n",
      "  Downloading httpcore-1.0.5-py3-none-any.whl (77 kB)\n",
      "\u001b[2K     \u001b[90m━━━━━━━━━━━━━━━━━━━━━━━━━━━━━━━━━━━━━━━━\u001b[0m \u001b[32m77.9/77.9 kB\u001b[0m \u001b[31m17.5 MB/s\u001b[0m eta \u001b[36m0:00:00\u001b[0m\n",
      "\u001b[?25hRequirement already satisfied: certifi in /opt/conda/lib/python3.10/site-packages (from httpx<1,>=0.23.0->openai<2.0.0,>=1.10.0->langchain-openai) (2022.6.15.1)\n",
      "Collecting h11<0.15,>=0.13\n",
      "  Downloading h11-0.14.0-py3-none-any.whl (58 kB)\n",
      "\u001b[2K     \u001b[90m━━━━━━━━━━━━━━━━━━━━━━━━━━━━━━━━━━━━━━━━\u001b[0m \u001b[32m58.3/58.3 kB\u001b[0m \u001b[31m18.3 MB/s\u001b[0m eta \u001b[36m0:00:00\u001b[0m\n",
      "\u001b[?25hRequirement already satisfied: jsonpointer>=1.9 in /opt/conda/lib/python3.10/site-packages (from jsonpatch<2.0,>=1.33->langchain-core<0.2.0,>=0.1.42->langchain-openai) (2.4)\n",
      "Requirement already satisfied: orjson<4.0.0,>=3.9.14 in /opt/conda/lib/python3.10/site-packages (from langsmith<0.2.0,>=0.1.0->langchain-core<0.2.0,>=0.1.42->langchain-openai) (3.10.1)\n",
      "Requirement already satisfied: annotated-types>=0.4.0 in /opt/conda/lib/python3.10/site-packages (from pydantic<3,>=1->langchain-core<0.2.0,>=0.1.42->langchain-openai) (0.6.0)\n",
      "Requirement already satisfied: pydantic-core==2.18.2 in /opt/conda/lib/python3.10/site-packages (from pydantic<3,>=1->langchain-core<0.2.0,>=0.1.42->langchain-openai) (2.18.2)\n",
      "Requirement already satisfied: urllib3<1.27,>=1.21.1 in /opt/conda/lib/python3.10/site-packages (from requests>=2.26.0->tiktoken<1,>=0.5.2->langchain-openai) (1.26.11)\n",
      "Requirement already satisfied: charset-normalizer<3,>=2 in /opt/conda/lib/python3.10/site-packages (from requests>=2.26.0->tiktoken<1,>=0.5.2->langchain-openai) (2.1.1)\n",
      "Installing collected packages: h11, distro, tiktoken, httpcore, httpx, openai, langchain-openai\n",
      "Successfully installed distro-1.9.0 h11-0.14.0 httpcore-1.0.5 httpx-0.27.0 langchain-openai-0.1.3 openai-1.23.6 tiktoken-0.6.0\n",
      "\u001b[33mWARNING: Running pip as the 'root' user can result in broken permissions and conflicting behaviour with the system package manager. It is recommended to use a virtual environment instead: https://pip.pypa.io/warnings/venv\u001b[0m\u001b[33m\n",
      "\u001b[0m\u001b[33mWARNING: The directory '/home/jovyan/.cache/pip' or its parent directory is not owned or is not writable by the current user. The cache has been disabled. Check the permissions and owner of that directory. If executing pip with sudo, you should use sudo's -H flag.\u001b[0m\u001b[33m\n",
      "\u001b[0mRequirement already satisfied: langchain-core in /opt/conda/lib/python3.10/site-packages (0.1.45)\n",
      "Requirement already satisfied: PyYAML>=5.3 in /opt/conda/lib/python3.10/site-packages (from langchain-core) (6.0)\n",
      "Requirement already satisfied: langsmith<0.2.0,>=0.1.0 in /opt/conda/lib/python3.10/site-packages (from langchain-core) (0.1.50)\n",
      "Requirement already satisfied: jsonpatch<2.0,>=1.33 in /opt/conda/lib/python3.10/site-packages (from langchain-core) (1.33)\n",
      "Requirement already satisfied: pydantic<3,>=1 in /opt/conda/lib/python3.10/site-packages (from langchain-core) (2.7.1)\n",
      "Requirement already satisfied: tenacity<9.0.0,>=8.1.0 in /opt/conda/lib/python3.10/site-packages (from langchain-core) (8.2.3)\n",
      "Requirement already satisfied: packaging<24.0,>=23.2 in /opt/conda/lib/python3.10/site-packages (from langchain-core) (23.2)\n",
      "Requirement already satisfied: jsonpointer>=1.9 in /opt/conda/lib/python3.10/site-packages (from jsonpatch<2.0,>=1.33->langchain-core) (2.4)\n",
      "Requirement already satisfied: requests<3,>=2 in /opt/conda/lib/python3.10/site-packages (from langsmith<0.2.0,>=0.1.0->langchain-core) (2.28.1)\n",
      "Requirement already satisfied: orjson<4.0.0,>=3.9.14 in /opt/conda/lib/python3.10/site-packages (from langsmith<0.2.0,>=0.1.0->langchain-core) (3.10.1)\n",
      "Requirement already satisfied: typing-extensions>=4.6.1 in /opt/conda/lib/python3.10/site-packages (from pydantic<3,>=1->langchain-core) (4.11.0)\n",
      "Requirement already satisfied: pydantic-core==2.18.2 in /opt/conda/lib/python3.10/site-packages (from pydantic<3,>=1->langchain-core) (2.18.2)\n",
      "Requirement already satisfied: annotated-types>=0.4.0 in /opt/conda/lib/python3.10/site-packages (from pydantic<3,>=1->langchain-core) (0.6.0)\n",
      "Requirement already satisfied: certifi>=2017.4.17 in /opt/conda/lib/python3.10/site-packages (from requests<3,>=2->langsmith<0.2.0,>=0.1.0->langchain-core) (2022.6.15.1)\n",
      "Requirement already satisfied: idna<4,>=2.5 in /opt/conda/lib/python3.10/site-packages (from requests<3,>=2->langsmith<0.2.0,>=0.1.0->langchain-core) (3.3)\n",
      "Requirement already satisfied: urllib3<1.27,>=1.21.1 in /opt/conda/lib/python3.10/site-packages (from requests<3,>=2->langsmith<0.2.0,>=0.1.0->langchain-core) (1.26.11)\n",
      "Requirement already satisfied: charset-normalizer<3,>=2 in /opt/conda/lib/python3.10/site-packages (from requests<3,>=2->langsmith<0.2.0,>=0.1.0->langchain-core) (2.1.1)\n",
      "\u001b[33mWARNING: Running pip as the 'root' user can result in broken permissions and conflicting behaviour with the system package manager. It is recommended to use a virtual environment instead: https://pip.pypa.io/warnings/venv\u001b[0m\u001b[33m\n",
      "\u001b[0m\u001b[33mWARNING: The directory '/home/jovyan/.cache/pip' or its parent directory is not owned or is not writable by the current user. The cache has been disabled. Check the permissions and owner of that directory. If executing pip with sudo, you should use sudo's -H flag.\u001b[0m\u001b[33m\n",
      "\u001b[0mRequirement already satisfied: langsmith in /opt/conda/lib/python3.10/site-packages (0.1.50)\n",
      "Requirement already satisfied: pydantic<3,>=1 in /opt/conda/lib/python3.10/site-packages (from langsmith) (2.7.1)\n",
      "Requirement already satisfied: requests<3,>=2 in /opt/conda/lib/python3.10/site-packages (from langsmith) (2.28.1)\n",
      "Requirement already satisfied: orjson<4.0.0,>=3.9.14 in /opt/conda/lib/python3.10/site-packages (from langsmith) (3.10.1)\n",
      "Requirement already satisfied: pydantic-core==2.18.2 in /opt/conda/lib/python3.10/site-packages (from pydantic<3,>=1->langsmith) (2.18.2)\n",
      "Requirement already satisfied: annotated-types>=0.4.0 in /opt/conda/lib/python3.10/site-packages (from pydantic<3,>=1->langsmith) (0.6.0)\n",
      "Requirement already satisfied: typing-extensions>=4.6.1 in /opt/conda/lib/python3.10/site-packages (from pydantic<3,>=1->langsmith) (4.11.0)\n",
      "Requirement already satisfied: urllib3<1.27,>=1.21.1 in /opt/conda/lib/python3.10/site-packages (from requests<3,>=2->langsmith) (1.26.11)\n",
      "Requirement already satisfied: charset-normalizer<3,>=2 in /opt/conda/lib/python3.10/site-packages (from requests<3,>=2->langsmith) (2.1.1)\n",
      "Requirement already satisfied: certifi>=2017.4.17 in /opt/conda/lib/python3.10/site-packages (from requests<3,>=2->langsmith) (2022.6.15.1)\n",
      "Requirement already satisfied: idna<4,>=2.5 in /opt/conda/lib/python3.10/site-packages (from requests<3,>=2->langsmith) (3.3)\n",
      "\u001b[33mWARNING: Running pip as the 'root' user can result in broken permissions and conflicting behaviour with the system package manager. It is recommended to use a virtual environment instead: https://pip.pypa.io/warnings/venv\u001b[0m\u001b[33m\n",
      "\u001b[0m\u001b[33mWARNING: The directory '/home/jovyan/.cache/pip' or its parent directory is not owned or is not writable by the current user. The cache has been disabled. Check the permissions and owner of that directory. If executing pip with sudo, you should use sudo's -H flag.\u001b[0m\u001b[33m\n",
      "\u001b[0mCollecting ctransformers[cuda]\n",
      "  Downloading ctransformers-0.2.27-py3-none-any.whl (9.9 MB)\n",
      "\u001b[2K     \u001b[90m━━━━━━━━━━━━━━━━━━━━━━━━━━━━━━━━━━━━━━━━\u001b[0m \u001b[32m9.9/9.9 MB\u001b[0m \u001b[31m17.2 MB/s\u001b[0m eta \u001b[36m0:00:00\u001b[0ma \u001b[36m0:00:01\u001b[0m\n",
      "\u001b[?25hRequirement already satisfied: huggingface-hub in /opt/conda/lib/python3.10/site-packages (from ctransformers[cuda]) (0.20.2)\n",
      "Collecting py-cpuinfo<10.0.0,>=9.0.0\n",
      "  Downloading py_cpuinfo-9.0.0-py3-none-any.whl (22 kB)\n",
      "Requirement already satisfied: nvidia-cublas-cu12 in /opt/conda/lib/python3.10/site-packages (from ctransformers[cuda]) (12.1.3.1)\n",
      "Requirement already satisfied: nvidia-cuda-runtime-cu12 in /opt/conda/lib/python3.10/site-packages (from ctransformers[cuda]) (12.1.105)\n",
      "Requirement already satisfied: fsspec>=2023.5.0 in /opt/conda/lib/python3.10/site-packages (from huggingface-hub->ctransformers[cuda]) (2023.10.0)\n",
      "Requirement already satisfied: typing-extensions>=3.7.4.3 in /opt/conda/lib/python3.10/site-packages (from huggingface-hub->ctransformers[cuda]) (4.11.0)\n",
      "Requirement already satisfied: packaging>=20.9 in /opt/conda/lib/python3.10/site-packages (from huggingface-hub->ctransformers[cuda]) (23.2)\n",
      "Requirement already satisfied: tqdm>=4.42.1 in /opt/conda/lib/python3.10/site-packages (from huggingface-hub->ctransformers[cuda]) (4.64.1)\n",
      "Requirement already satisfied: requests in /opt/conda/lib/python3.10/site-packages (from huggingface-hub->ctransformers[cuda]) (2.28.1)\n",
      "Requirement already satisfied: filelock in /opt/conda/lib/python3.10/site-packages (from huggingface-hub->ctransformers[cuda]) (3.13.1)\n",
      "Requirement already satisfied: pyyaml>=5.1 in /opt/conda/lib/python3.10/site-packages (from huggingface-hub->ctransformers[cuda]) (6.0)\n",
      "Requirement already satisfied: certifi>=2017.4.17 in /opt/conda/lib/python3.10/site-packages (from requests->huggingface-hub->ctransformers[cuda]) (2022.6.15.1)\n",
      "Requirement already satisfied: idna<4,>=2.5 in /opt/conda/lib/python3.10/site-packages (from requests->huggingface-hub->ctransformers[cuda]) (3.3)\n",
      "Requirement already satisfied: urllib3<1.27,>=1.21.1 in /opt/conda/lib/python3.10/site-packages (from requests->huggingface-hub->ctransformers[cuda]) (1.26.11)\n",
      "Requirement already satisfied: charset-normalizer<3,>=2 in /opt/conda/lib/python3.10/site-packages (from requests->huggingface-hub->ctransformers[cuda]) (2.1.1)\n",
      "Installing collected packages: py-cpuinfo, ctransformers\n",
      "Successfully installed ctransformers-0.2.27 py-cpuinfo-9.0.0\n",
      "\u001b[33mWARNING: Running pip as the 'root' user can result in broken permissions and conflicting behaviour with the system package manager. It is recommended to use a virtual environment instead: https://pip.pypa.io/warnings/venv\u001b[0m\u001b[33m\n",
      "\u001b[0m\u001b[33mWARNING: The directory '/home/jovyan/.cache/pip' or its parent directory is not owned or is not writable by the current user. The cache has been disabled. Check the permissions and owner of that directory. If executing pip with sudo, you should use sudo's -H flag.\u001b[0m\u001b[33m\n",
      "\u001b[0mRequirement already satisfied: huggingface-hub in /opt/conda/lib/python3.10/site-packages (0.20.2)\n",
      "Requirement already satisfied: packaging>=20.9 in /opt/conda/lib/python3.10/site-packages (from huggingface-hub) (23.2)\n",
      "Requirement already satisfied: typing-extensions>=3.7.4.3 in /opt/conda/lib/python3.10/site-packages (from huggingface-hub) (4.11.0)\n",
      "Requirement already satisfied: requests in /opt/conda/lib/python3.10/site-packages (from huggingface-hub) (2.28.1)\n",
      "Requirement already satisfied: tqdm>=4.42.1 in /opt/conda/lib/python3.10/site-packages (from huggingface-hub) (4.64.1)\n",
      "Requirement already satisfied: pyyaml>=5.1 in /opt/conda/lib/python3.10/site-packages (from huggingface-hub) (6.0)\n",
      "Requirement already satisfied: filelock in /opt/conda/lib/python3.10/site-packages (from huggingface-hub) (3.13.1)\n",
      "Requirement already satisfied: fsspec>=2023.5.0 in /opt/conda/lib/python3.10/site-packages (from huggingface-hub) (2023.10.0)\n",
      "Requirement already satisfied: urllib3<1.27,>=1.21.1 in /opt/conda/lib/python3.10/site-packages (from requests->huggingface-hub) (1.26.11)\n",
      "Requirement already satisfied: certifi>=2017.4.17 in /opt/conda/lib/python3.10/site-packages (from requests->huggingface-hub) (2022.6.15.1)\n",
      "Requirement already satisfied: charset-normalizer<3,>=2 in /opt/conda/lib/python3.10/site-packages (from requests->huggingface-hub) (2.1.1)\n",
      "Requirement already satisfied: idna<4,>=2.5 in /opt/conda/lib/python3.10/site-packages (from requests->huggingface-hub) (3.3)\n",
      "\u001b[33mWARNING: Running pip as the 'root' user can result in broken permissions and conflicting behaviour with the system package manager. It is recommended to use a virtual environment instead: https://pip.pypa.io/warnings/venv\u001b[0m\u001b[33m\n",
      "\u001b[0m\u001b[33mWARNING: The directory '/home/jovyan/.cache/pip' or its parent directory is not owned or is not writable by the current user. The cache has been disabled. Check the permissions and owner of that directory. If executing pip with sudo, you should use sudo's -H flag.\u001b[0m\u001b[33m\n",
      "\u001b[0mRequirement already satisfied: sqlalchemy in /opt/conda/lib/python3.10/site-packages (1.4.41)\n",
      "Collecting sqlalchemy\n",
      "  Downloading SQLAlchemy-2.0.29-cp310-cp310-manylinux_2_17_x86_64.manylinux2014_x86_64.whl (3.1 MB)\n",
      "\u001b[2K     \u001b[90m━━━━━━━━━━━━━━━━━━━━━━━━━━━━━━━━━━━━━━━━\u001b[0m \u001b[32m3.1/3.1 MB\u001b[0m \u001b[31m10.3 MB/s\u001b[0m eta \u001b[36m0:00:00\u001b[0m00:01\u001b[0m0:01\u001b[0mm\n",
      "\u001b[?25hRequirement already satisfied: typing-extensions>=4.6.0 in /opt/conda/lib/python3.10/site-packages (from sqlalchemy) (4.11.0)\n",
      "Requirement already satisfied: greenlet!=0.4.17 in /opt/conda/lib/python3.10/site-packages (from sqlalchemy) (1.1.3)\n",
      "Installing collected packages: sqlalchemy\n",
      "  Attempting uninstall: sqlalchemy\n",
      "    Found existing installation: SQLAlchemy 1.4.41\n",
      "    Uninstalling SQLAlchemy-1.4.41:\n",
      "      Successfully uninstalled SQLAlchemy-1.4.41\n",
      "Successfully installed sqlalchemy-2.0.29\n",
      "\u001b[33mWARNING: Running pip as the 'root' user can result in broken permissions and conflicting behaviour with the system package manager. It is recommended to use a virtual environment instead: https://pip.pypa.io/warnings/venv\u001b[0m\u001b[33m\n",
      "\u001b[0m\u001b[33mWARNING: The directory '/home/jovyan/.cache/pip' or its parent directory is not owned or is not writable by the current user. The cache has been disabled. Check the permissions and owner of that directory. If executing pip with sudo, you should use sudo's -H flag.\u001b[0m\u001b[33m\n",
      "\u001b[0mCollecting rdflib\n",
      "  Downloading rdflib-7.0.0-py3-none-any.whl (531 kB)\n",
      "\u001b[2K     \u001b[90m━━━━━━━━━━━━━━━━━━━━━━━━━━━━━━━━━━━━━━\u001b[0m \u001b[32m531.9/531.9 kB\u001b[0m \u001b[31m13.7 MB/s\u001b[0m eta \u001b[36m0:00:00\u001b[0ma \u001b[36m0:00:01\u001b[0m\n",
      "\u001b[?25hCollecting isodate<0.7.0,>=0.6.0\n",
      "  Downloading isodate-0.6.1-py2.py3-none-any.whl (41 kB)\n",
      "\u001b[2K     \u001b[90m━━━━━━━━━━━━━━━━━━━━━━━━━━━━━━━━━━━━━━━━\u001b[0m \u001b[32m41.7/41.7 kB\u001b[0m \u001b[31m28.2 MB/s\u001b[0m eta \u001b[36m0:00:00\u001b[0m\n",
      "\u001b[?25hRequirement already satisfied: pyparsing<4,>=2.1.0 in /opt/conda/lib/python3.10/site-packages (from rdflib) (3.0.9)\n",
      "Requirement already satisfied: six in /opt/conda/lib/python3.10/site-packages (from isodate<0.7.0,>=0.6.0->rdflib) (1.16.0)\n",
      "Installing collected packages: isodate, rdflib\n",
      "Successfully installed isodate-0.6.1 rdflib-7.0.0\n",
      "\u001b[33mWARNING: Running pip as the 'root' user can result in broken permissions and conflicting behaviour with the system package manager. It is recommended to use a virtual environment instead: https://pip.pypa.io/warnings/venv\u001b[0m\u001b[33m\n",
      "\u001b[0m\u001b[33mWARNING: The directory '/home/jovyan/.cache/pip' or its parent directory is not owned or is not writable by the current user. The cache has been disabled. Check the permissions and owner of that directory. If executing pip with sudo, you should use sudo's -H flag.\u001b[0m\u001b[33m\n",
      "\u001b[0mCollecting llama-cpp-python\n",
      "  Downloading llama_cpp_python-0.2.64.tar.gz (37.4 MB)\n",
      "\u001b[2K     \u001b[90m━━━━━━━━━━━━━━━━━━━━━━━━━━━━━━━━━━━━━━━━\u001b[0m \u001b[32m37.4/37.4 MB\u001b[0m \u001b[31m9.9 MB/s\u001b[0m eta \u001b[36m0:00:00\u001b[0m:00:01\u001b[0m00:01\u001b[0m\n",
      "\u001b[?25h  Installing build dependencies ... \u001b[?25ldone\n",
      "\u001b[?25h  Getting requirements to build wheel ... \u001b[?25ldone\n",
      "\u001b[?25h  Installing backend dependencies ... \u001b[?25ldone\n",
      "\u001b[?25h  Preparing metadata (pyproject.toml) ... \u001b[?25ldone\n",
      "\u001b[?25hRequirement already satisfied: jinja2>=2.11.3 in /opt/conda/lib/python3.10/site-packages (from llama-cpp-python) (3.1.2)\n",
      "Requirement already satisfied: typing-extensions>=4.5.0 in /opt/conda/lib/python3.10/site-packages (from llama-cpp-python) (4.11.0)\n",
      "Collecting diskcache>=5.6.1\n",
      "  Downloading diskcache-5.6.3-py3-none-any.whl (45 kB)\n",
      "\u001b[2K     \u001b[90m━━━━━━━━━━━━━━━━━━━━━━━━━━━━━━━━━━━━━━━━\u001b[0m \u001b[32m45.5/45.5 kB\u001b[0m \u001b[31m12.5 MB/s\u001b[0m eta \u001b[36m0:00:00\u001b[0m\n",
      "\u001b[?25hRequirement already satisfied: numpy>=1.20.0 in /opt/conda/lib/python3.10/site-packages (from llama-cpp-python) (1.22.4)\n",
      "Requirement already satisfied: MarkupSafe>=2.0 in /opt/conda/lib/python3.10/site-packages (from jinja2>=2.11.3->llama-cpp-python) (2.1.1)\n",
      "Building wheels for collected packages: llama-cpp-python\n",
      "  Building wheel for llama-cpp-python (pyproject.toml) ... \u001b[?25ldone\n",
      "\u001b[?25h  Created wheel for llama-cpp-python: filename=llama_cpp_python-0.2.64-cp310-cp310-linux_x86_64.whl size=3351434 sha256=5780bb53210dfc226904bbddbed2ce3e50f26e4e8ecd41812e341a08da2b43da\n",
      "  Stored in directory: /tmp/pip-ephem-wheel-cache-aeo_ceie/wheels/4a/69/6b/2fb423c0e39b66cc7f9b84ea837dbdc1eee8ea5f624e3eaeb6\n",
      "Successfully built llama-cpp-python\n",
      "Installing collected packages: diskcache, llama-cpp-python\n",
      "Successfully installed diskcache-5.6.3 llama-cpp-python-0.2.64\n",
      "\u001b[33mWARNING: Running pip as the 'root' user can result in broken permissions and conflicting behaviour with the system package manager. It is recommended to use a virtual environment instead: https://pip.pypa.io/warnings/venv\u001b[0m\u001b[33m\n",
      "\u001b[0m\u001b[33mWARNING: The directory '/home/jovyan/.cache/pip' or its parent directory is not owned or is not writable by the current user. The cache has been disabled. Check the permissions and owner of that directory. If executing pip with sudo, you should use sudo's -H flag.\u001b[0m\u001b[33m\n",
      "\u001b[0mCollecting typing-extensions==4.7.1\n",
      "  Downloading typing_extensions-4.7.1-py3-none-any.whl (33 kB)\n",
      "Installing collected packages: typing-extensions\n",
      "  Attempting uninstall: typing-extensions\n",
      "    Found existing installation: typing_extensions 4.11.0\n",
      "    Uninstalling typing_extensions-4.11.0:\n",
      "      Successfully uninstalled typing_extensions-4.11.0\n",
      "Successfully installed typing-extensions-4.7.1\n",
      "\u001b[33mWARNING: Running pip as the 'root' user can result in broken permissions and conflicting behaviour with the system package manager. It is recommended to use a virtual environment instead: https://pip.pypa.io/warnings/venv\u001b[0m\u001b[33m\n",
      "\u001b[0m\u001b[33mWARNING: The directory '/home/jovyan/.cache/pip' or its parent directory is not owned or is not writable by the current user. The cache has been disabled. Check the permissions and owner of that directory. If executing pip with sudo, you should use sudo's -H flag.\u001b[0m\u001b[33m\n",
      "\u001b[0mCollecting pypdf2\n",
      "  Downloading pypdf2-3.0.1-py3-none-any.whl (232 kB)\n",
      "\u001b[2K     \u001b[90m━━━━━━━━━━━━━━━━━━━━━━━━━━━━━━━━━━━━━━\u001b[0m \u001b[32m232.6/232.6 kB\u001b[0m \u001b[31m10.4 MB/s\u001b[0m eta \u001b[36m0:00:00\u001b[0m\n",
      "\u001b[?25hInstalling collected packages: pypdf2\n",
      "Successfully installed pypdf2-3.0.1\n",
      "\u001b[33mWARNING: Running pip as the 'root' user can result in broken permissions and conflicting behaviour with the system package manager. It is recommended to use a virtual environment instead: https://pip.pypa.io/warnings/venv\u001b[0m\u001b[33m\n",
      "\u001b[0m\u001b[33mWARNING: The directory '/home/jovyan/.cache/pip' or its parent directory is not owned or is not writable by the current user. The cache has been disabled. Check the permissions and owner of that directory. If executing pip with sudo, you should use sudo's -H flag.\u001b[0m\u001b[33m\n",
      "\u001b[0mCollecting sentence-transformers\n",
      "  Downloading sentence_transformers-2.7.0-py3-none-any.whl (171 kB)\n",
      "\u001b[2K     \u001b[90m━━━━━━━━━━━━━━━━━━━━━━━━━━━━━━━━━━━━━━\u001b[0m \u001b[32m171.5/171.5 kB\u001b[0m \u001b[31m41.4 MB/s\u001b[0m eta \u001b[36m0:00:00\u001b[0m\n",
      "\u001b[?25hRequirement already satisfied: scipy in /opt/conda/lib/python3.10/site-packages (from sentence-transformers) (1.9.1)\n",
      "Requirement already satisfied: tqdm in /opt/conda/lib/python3.10/site-packages (from sentence-transformers) (4.64.1)\n",
      "Requirement already satisfied: torch>=1.11.0 in /opt/conda/lib/python3.10/site-packages (from sentence-transformers) (2.1.2)\n",
      "Requirement already satisfied: huggingface-hub>=0.15.1 in /opt/conda/lib/python3.10/site-packages (from sentence-transformers) (0.20.2)\n",
      "Requirement already satisfied: Pillow in /opt/conda/lib/python3.10/site-packages (from sentence-transformers) (9.2.0)\n",
      "Requirement already satisfied: scikit-learn in /opt/conda/lib/python3.10/site-packages (from sentence-transformers) (1.1.2)\n",
      "Requirement already satisfied: numpy in /opt/conda/lib/python3.10/site-packages (from sentence-transformers) (1.22.4)\n",
      "Requirement already satisfied: transformers<5.0.0,>=4.34.0 in /opt/conda/lib/python3.10/site-packages (from sentence-transformers) (4.36.2)\n",
      "Requirement already satisfied: typing-extensions>=3.7.4.3 in /opt/conda/lib/python3.10/site-packages (from huggingface-hub>=0.15.1->sentence-transformers) (4.7.1)\n",
      "Requirement already satisfied: packaging>=20.9 in /opt/conda/lib/python3.10/site-packages (from huggingface-hub>=0.15.1->sentence-transformers) (23.2)\n",
      "Requirement already satisfied: filelock in /opt/conda/lib/python3.10/site-packages (from huggingface-hub>=0.15.1->sentence-transformers) (3.13.1)\n",
      "Requirement already satisfied: pyyaml>=5.1 in /opt/conda/lib/python3.10/site-packages (from huggingface-hub>=0.15.1->sentence-transformers) (6.0)\n",
      "Requirement already satisfied: fsspec>=2023.5.0 in /opt/conda/lib/python3.10/site-packages (from huggingface-hub>=0.15.1->sentence-transformers) (2023.10.0)\n",
      "Requirement already satisfied: requests in /opt/conda/lib/python3.10/site-packages (from huggingface-hub>=0.15.1->sentence-transformers) (2.28.1)\n",
      "Requirement already satisfied: jinja2 in /opt/conda/lib/python3.10/site-packages (from torch>=1.11.0->sentence-transformers) (3.1.2)\n",
      "Requirement already satisfied: networkx in /opt/conda/lib/python3.10/site-packages (from torch>=1.11.0->sentence-transformers) (2.8.6)\n",
      "Requirement already satisfied: nvidia-cufft-cu12==11.0.2.54 in /opt/conda/lib/python3.10/site-packages (from torch>=1.11.0->sentence-transformers) (11.0.2.54)\n",
      "Requirement already satisfied: nvidia-cuda-nvrtc-cu12==12.1.105 in /opt/conda/lib/python3.10/site-packages (from torch>=1.11.0->sentence-transformers) (12.1.105)\n",
      "Requirement already satisfied: nvidia-cudnn-cu12==8.9.2.26 in /opt/conda/lib/python3.10/site-packages (from torch>=1.11.0->sentence-transformers) (8.9.2.26)\n",
      "Requirement already satisfied: nvidia-curand-cu12==10.3.2.106 in /opt/conda/lib/python3.10/site-packages (from torch>=1.11.0->sentence-transformers) (10.3.2.106)\n",
      "Requirement already satisfied: nvidia-cuda-runtime-cu12==12.1.105 in /opt/conda/lib/python3.10/site-packages (from torch>=1.11.0->sentence-transformers) (12.1.105)\n",
      "Requirement already satisfied: triton==2.1.0 in /opt/conda/lib/python3.10/site-packages (from torch>=1.11.0->sentence-transformers) (2.1.0)\n",
      "Requirement already satisfied: nvidia-cusparse-cu12==12.1.0.106 in /opt/conda/lib/python3.10/site-packages (from torch>=1.11.0->sentence-transformers) (12.1.0.106)\n",
      "Requirement already satisfied: nvidia-cuda-cupti-cu12==12.1.105 in /opt/conda/lib/python3.10/site-packages (from torch>=1.11.0->sentence-transformers) (12.1.105)\n",
      "Requirement already satisfied: nvidia-nvtx-cu12==12.1.105 in /opt/conda/lib/python3.10/site-packages (from torch>=1.11.0->sentence-transformers) (12.1.105)\n",
      "Requirement already satisfied: sympy in /opt/conda/lib/python3.10/site-packages (from torch>=1.11.0->sentence-transformers) (1.10.1)\n",
      "Requirement already satisfied: nvidia-cusolver-cu12==11.4.5.107 in /opt/conda/lib/python3.10/site-packages (from torch>=1.11.0->sentence-transformers) (11.4.5.107)\n",
      "Requirement already satisfied: nvidia-nccl-cu12==2.18.1 in /opt/conda/lib/python3.10/site-packages (from torch>=1.11.0->sentence-transformers) (2.18.1)\n",
      "Requirement already satisfied: nvidia-cublas-cu12==12.1.3.1 in /opt/conda/lib/python3.10/site-packages (from torch>=1.11.0->sentence-transformers) (12.1.3.1)\n",
      "Requirement already satisfied: nvidia-nvjitlink-cu12 in /opt/conda/lib/python3.10/site-packages (from nvidia-cusolver-cu12==11.4.5.107->torch>=1.11.0->sentence-transformers) (12.3.101)\n",
      "Requirement already satisfied: regex!=2019.12.17 in /opt/conda/lib/python3.10/site-packages (from transformers<5.0.0,>=4.34.0->sentence-transformers) (2023.12.25)\n",
      "Requirement already satisfied: safetensors>=0.3.1 in /opt/conda/lib/python3.10/site-packages (from transformers<5.0.0,>=4.34.0->sentence-transformers) (0.4.1)\n",
      "Requirement already satisfied: tokenizers<0.19,>=0.14 in /opt/conda/lib/python3.10/site-packages (from transformers<5.0.0,>=4.34.0->sentence-transformers) (0.15.0)\n",
      "Requirement already satisfied: threadpoolctl>=2.0.0 in /opt/conda/lib/python3.10/site-packages (from scikit-learn->sentence-transformers) (3.1.0)\n",
      "Requirement already satisfied: joblib>=1.0.0 in /opt/conda/lib/python3.10/site-packages (from scikit-learn->sentence-transformers) (1.1.0)\n",
      "Requirement already satisfied: MarkupSafe>=2.0 in /opt/conda/lib/python3.10/site-packages (from jinja2->torch>=1.11.0->sentence-transformers) (2.1.1)\n",
      "Requirement already satisfied: charset-normalizer<3,>=2 in /opt/conda/lib/python3.10/site-packages (from requests->huggingface-hub>=0.15.1->sentence-transformers) (2.1.1)\n",
      "Requirement already satisfied: urllib3<1.27,>=1.21.1 in /opt/conda/lib/python3.10/site-packages (from requests->huggingface-hub>=0.15.1->sentence-transformers) (1.26.11)\n",
      "Requirement already satisfied: idna<4,>=2.5 in /opt/conda/lib/python3.10/site-packages (from requests->huggingface-hub>=0.15.1->sentence-transformers) (3.3)\n",
      "Requirement already satisfied: certifi>=2017.4.17 in /opt/conda/lib/python3.10/site-packages (from requests->huggingface-hub>=0.15.1->sentence-transformers) (2022.6.15.1)\n",
      "Requirement already satisfied: mpmath>=0.19 in /opt/conda/lib/python3.10/site-packages (from sympy->torch>=1.11.0->sentence-transformers) (1.2.1)\n",
      "Installing collected packages: sentence-transformers\n",
      "Successfully installed sentence-transformers-2.7.0\n",
      "\u001b[33mWARNING: Running pip as the 'root' user can result in broken permissions and conflicting behaviour with the system package manager. It is recommended to use a virtual environment instead: https://pip.pypa.io/warnings/venv\u001b[0m\u001b[33m\n",
      "\u001b[0m\u001b[33mWARNING: The directory '/home/jovyan/.cache/pip' or its parent directory is not owned or is not writable by the current user. The cache has been disabled. Check the permissions and owner of that directory. If executing pip with sudo, you should use sudo's -H flag.\u001b[0m\u001b[33m\n",
      "\u001b[0mCollecting faiss-gpu\n",
      "  Downloading faiss_gpu-1.7.2-cp310-cp310-manylinux_2_17_x86_64.manylinux2014_x86_64.whl (85.5 MB)\n",
      "\u001b[2K     \u001b[90m━━━━━━━━━━━━━━━━━━━━━━━━━━━━━━━━━━━━━━━━\u001b[0m \u001b[32m85.5/85.5 MB\u001b[0m \u001b[31m16.1 MB/s\u001b[0m eta \u001b[36m0:00:00\u001b[0m00:01\u001b[0m00:01\u001b[0m\n",
      "\u001b[?25hInstalling collected packages: faiss-gpu\n",
      "Successfully installed faiss-gpu-1.7.2\n",
      "\u001b[33mWARNING: Running pip as the 'root' user can result in broken permissions and conflicting behaviour with the system package manager. It is recommended to use a virtual environment instead: https://pip.pypa.io/warnings/venv\u001b[0m\u001b[33m\n",
      "\u001b[0m"
     ]
    }
   ],
   "source": [
    "!pip install --upgrade langchain\n",
    "!pip install --upgrade langchain-openai\n",
    "!pip install --upgrade langchain-core\n",
    "!pip install --upgrade langsmith\n",
    "!pip install ctransformers[cuda]\n",
    "!pip install huggingface-hub\n",
    "!pip install --upgrade sqlalchemy\n",
    "!pip install rdflib\n",
    "!pip install llama-cpp-python\n",
    "!pip install typing-extensions==4.7.1 --upgrade\n",
    "!pip install pypdf2\n",
    "!pip install sentence-transformers\n",
    "!pip install faiss-gpu"
   ]
  },
  {
   "cell_type": "code",
   "execution_count": 2,
   "id": "9e82a96e-a72d-44c7-810b-c0ff15aa86d7",
   "metadata": {},
   "outputs": [],
   "source": [
    "import transformers\n",
    "import torch\n",
    "from torch import cuda, bfloat16\n",
    "import json\n",
    "\n",
    "from PyPDF2 import PdfReader\n",
    "import json\n",
    "from langchain.text_splitter import RecursiveCharacterTextSplitter\n",
    "from langchain_community.vectorstores import FAISS\n",
    "from langchain.schema.output_parser import StrOutputParser\n",
    "from langchain_core.prompts import ChatPromptTemplate\n",
    "from langchain_core.runnables import RunnablePassthrough\n",
    "from langchain.embeddings import HuggingFaceEmbeddings\n",
    "from langchain.prompts import PromptTemplate"
   ]
  },
  {
   "cell_type": "code",
   "execution_count": 3,
   "id": "50554d9e-5026-4530-989a-56128a96b0fb",
   "metadata": {},
   "outputs": [],
   "source": [
    "model_id = \"meta-llama/Meta-Llama-3-8B-Instruct\"\n",
    "device = \"cuda\""
   ]
  },
  {
   "cell_type": "code",
   "execution_count": 8,
   "id": "4739af29-8bde-4bdd-95b1-aaeebda0e8ca",
   "metadata": {},
   "outputs": [
    {
     "name": "stderr",
     "output_type": "stream",
     "text": [
      "Special tokens have been added in the vocabulary, make sure the associated word embeddings are fine-tuned or trained.\n"
     ]
    },
    {
     "data": {
      "application/vnd.jupyter.widget-view+json": {
       "model_id": "be322f0d94014c06afd99c9ccb3eea7c",
       "version_major": 2,
       "version_minor": 0
      },
      "text/plain": [
       "Loading checkpoint shards:   0%|          | 0/4 [00:00<?, ?it/s]"
      ]
     },
     "metadata": {},
     "output_type": "display_data"
    }
   ],
   "source": [
    "bnb_config = transformers.BitsAndBytesConfig(\n",
    "    load_in_4bit=True, bnb_4bit_use_double_quant=True, bnb_4bit_quant_type=\"nf4\", bnb_4bit_compute_dtype=torch.bfloat16\n",
    ")\n",
    "\n",
    "tokenizer = transformers.AutoTokenizer.from_pretrained(model_id)\n",
    "model = transformers.AutoModelForCausalLM.from_pretrained(\n",
    "    model_id,\n",
    "    torch_dtype=torch.bfloat16,\n",
    "    device_map=\"auto\",\n",
    "    quantization_config=bnb_config\n",
    ")\n",
    "terminators = [\n",
    "    tokenizer.eos_token_id,\n",
    "    tokenizer.convert_tokens_to_ids(\"<|eot_id|>\")\n",
    "]"
   ]
  },
  {
   "cell_type": "code",
   "execution_count": 20,
   "id": "afbc5e7c-19cc-4ae5-9e7a-ecc1c8ebd53a",
   "metadata": {},
   "outputs": [
    {
     "name": "stderr",
     "output_type": "stream",
     "text": [
      "No sentence-transformers model found with name meta-llama/Meta-Llama-3-8B-Instruct. Creating a new one with MEAN pooling.\n"
     ]
    },
    {
     "data": {
      "application/vnd.jupyter.widget-view+json": {
       "model_id": "07a18f2b81a341e795c7d1865b533fc4",
       "version_major": 2,
       "version_minor": 0
      },
      "text/plain": [
       "Loading checkpoint shards:   0%|          | 0/4 [00:00<?, ?it/s]"
      ]
     },
     "metadata": {},
     "output_type": "display_data"
    },
    {
     "name": "stderr",
     "output_type": "stream",
     "text": [
      "Special tokens have been added in the vocabulary, make sure the associated word embeddings are fine-tuned or trained.\n"
     ]
    }
   ],
   "source": [
    "model_name = \"meta-llama/Meta-Llama-3-8B-Instruct\"\n",
    "model_kwargs = {\"device\": \"cpu\"}\n",
    "# tokenizer.pad_token = tokenizer.eos_token\n",
    "embed_model = HuggingFaceEmbeddings(model_name=model_name, model_kwargs=model_kwargs)\n",
    "embed_model.client.tokenizer.pad_token = embed_model.client.tokenizer.eos_token"
   ]
  },
  {
   "cell_type": "code",
   "execution_count": 37,
   "id": "76cf91f4-e980-43df-a92b-ed19f7c377fb",
   "metadata": {},
   "outputs": [],
   "source": [
    "embed_model_1 = HuggingFaceEmbeddings(model_name = \"mixedbread-ai/mxbai-embed-large-v1\")"
   ]
  },
  {
   "cell_type": "code",
   "execution_count": 38,
   "id": "3ff0ac67-14ec-4aab-9845-8fbb9a09036b",
   "metadata": {},
   "outputs": [],
   "source": [
    "def get_rag(paper_dir, embed_model):\n",
    "    pdf = open(paper_dir, 'rb')\n",
    "    pdf_reader = PdfReader(pdf)\n",
    "    text = \"\"\n",
    "    for page in pdf_reader.pages:\n",
    "        text += page.extract_text()\n",
    "\n",
    "    text_splitter = RecursiveCharacterTextSplitter(\n",
    "        chunk_size=500,\n",
    "        chunk_overlap=100,\n",
    "        length_function=len\n",
    "    )\n",
    "    chunks = text_splitter.split_text(text=text)\n",
    "    return FAISS.from_texts(chunks, embedding=embed_model)"
   ]
  },
  {
   "cell_type": "code",
   "execution_count": 72,
   "id": "d6633780-857d-403c-abc1-22848a172d37",
   "metadata": {},
   "outputs": [],
   "source": [
    "vector_store = get_rag(\"./paper/paper_3.pdf\", embed_model)"
   ]
  },
  {
   "cell_type": "code",
   "execution_count": 73,
   "id": "542996eb-ef73-4c33-a1a4-31da5ba37674",
   "metadata": {},
   "outputs": [],
   "source": [
    "SYS_PROMPT = \"\"\"You are an assistant for extract information from the paper.\n",
    "You are given the extracted parts of a paper about solar chemistry and a question. Provide the extracted information and nothing else.\n",
    "\"\"\""
   ]
  },
  {
   "cell_type": "code",
   "execution_count": 74,
   "id": "60bd20a7-bd8b-4d62-9b9e-b64ba8425305",
   "metadata": {},
   "outputs": [],
   "source": [
    "def search(query, k, embed_model):\n",
    "    embed_q = embed_model.embed_query(query)\n",
    "    return vector_store.similarity_search_with_score_by_vector(embed_q, k)"
   ]
  },
  {
   "cell_type": "code",
   "execution_count": 75,
   "id": "71b1328a-12a2-4d18-aa89-a63b5184398f",
   "metadata": {},
   "outputs": [],
   "source": [
    "def format_prompt(prompt,retrieved_documents,k):\n",
    "    PROMPT = f\"Question:{prompt}\\nContext:\"\n",
    "    for idx in range(k) :\n",
    "        PROMPT+= f\"{retrieved_documents[idx]}\\n\"\n",
    "    return PROMPT"
   ]
  },
  {
   "cell_type": "code",
   "execution_count": 76,
   "id": "732a5679-a40a-4eb8-bd60-69bf47e44121",
   "metadata": {},
   "outputs": [],
   "source": [
    "def generate(formatted_prompt):\n",
    "    messages = [{\"role\":\"system\",\"content\":SYS_PROMPT},{\"role\":\"user\",\"content\":formatted_prompt}]\n",
    "  # tell the model to generate\n",
    "    input_ids = tokenizer.apply_chat_template(\n",
    "        messages,\n",
    "        add_generation_prompt=True,\n",
    "        return_tensors=\"pt\"\n",
    "    ).to(model.device)\n",
    "    outputs = model.generate(\n",
    "        input_ids,\n",
    "        max_new_tokens=1024,\n",
    "        eos_token_id=terminators,\n",
    "        do_sample=True,\n",
    "        # temperature=0.6,\n",
    "        top_p=0.9,\n",
    "    )\n",
    "    response = outputs[0][input_ids.shape[-1]:]\n",
    "    return tokenizer.decode(response, skip_special_tokens=True)"
   ]
  },
  {
   "cell_type": "code",
   "execution_count": 77,
   "id": "bdedcc36-ebb5-4fe1-b5ed-3f12c7f69e0f",
   "metadata": {},
   "outputs": [],
   "source": [
    "def rag_llama(prompt,k, embed_model):\n",
    "    retrieved_documents = search(prompt, k, embed_model)\n",
    "    formatted_prompt = format_prompt(prompt,retrieved_documents,k)\n",
    "    return retrieved_documents, generate(formatted_prompt)"
   ]
  },
  {
   "cell_type": "code",
   "execution_count": 88,
   "id": "7fdc3fea-551b-4858-93f7-9582549603ba",
   "metadata": {},
   "outputs": [],
   "source": [
    "prompt_message = \"\"\"Please Generate the Catalyst and co-catalyst from the paper, as well as generate the following information:Catalyst_set_up:['Powder(Suspended)', 'Film', 'Powder(Supported)', 'Powder', 'Other', 'Optical Fiber', 'SiO2 sublayer', 'Nanorribbons', 'Homogeneous', nan, 'Mesh', 'Monolith', 'Powder of nanocrystals', 'nanosheets', 'Nanofibers', 'ZnO nanorod array@carbon\\nfiber (ZnO NA@CF) heterostructures', 'single-crystalline nanosheets', 'powder', 'Flaky g-C3N4 and uniformly loaded CdS nanospheres.', 'Nanocomposites.', 'powders', 'TiO2 nanosheets', 'Ultrathin SnNb2O6 2D nanosheets', 'nanotubes', 'tubes', 'nanorods', 'crystals', 'typical rod-like and belt-like structure', 'microrods', 'Hexagonal Platelets', 'Nickel on silica-alumina support', ' non-uniform grains', 'nanopowder', 'Single Crystal', 'Pellets', 'Powder(Sudpended)'], Reaction_medium:['Liquid', 'Gas'], Reactor_type: ['Slurry', 'Fixed-bed', 'OpticalFiber', 'Monolithic', 'Membrane', 'Fluidised-bed', nan], Operation_mode:['Batch', 'Continuous'], Lamp:['Mercury', 'Fluorescent', 'Xenon', 'SolarSimulator', 'Halogen', nan, 'Tungsten-Halide', 'Mercury-Xenon', 'Other', 'LED', 'Tungsten']\n",
    "Please Only Selection the generation from the provided choices.\n",
    "Please generating follow the format:\n",
    "Catalyst: XXXX\n",
    "Co-catalyst: XXXX\n",
    "Catalyst_set_up: XXXX\n",
    "Reaction_medium: XXXX\n",
    "Reactor_type: XXXX\n",
    "Operation_mode: XXXX\n",
    "Lamp: XXXX\n",
    "\"\"\""
   ]
  },
  {
   "cell_type": "code",
   "execution_count": 95,
   "id": "6eef109a-89bc-4d23-a5d8-97cf1745b056",
   "metadata": {},
   "outputs": [
    {
     "name": "stderr",
     "output_type": "stream",
     "text": [
      "The attention mask and the pad token id were not set. As a consequence, you may observe unexpected behavior. Please pass your input's `attention_mask` to obtain reliable results.\n",
      "Setting `pad_token_id` to `eos_token_id`:128001 for open-end generation.\n"
     ]
    }
   ],
   "source": [
    "doc, res = rag_llama(prompt_message, k = 5, embed_model = embed_model)"
   ]
  },
  {
   "cell_type": "code",
   "execution_count": 101,
   "id": "8952f1d4-ecef-415a-b177-33bbbf2ed923",
   "metadata": {},
   "outputs": [
    {
     "data": {
      "text/plain": [
       "'Catalyst: TiO2\\nCo-catalyst: Silver\\nCatalyst_set_up: Powder\\nReaction_medium: Aqueous solution\\nReactor_type: Fixed-bed\\nOperation_mode: Batch\\nLamp: Mercury'"
      ]
     },
     "execution_count": 101,
     "metadata": {},
     "output_type": "execute_result"
    }
   ],
   "source": [
    "res"
   ]
  },
  {
   "cell_type": "code",
   "execution_count": 99,
   "id": "14184d72-7415-45ce-9d7d-4831dccfd902",
   "metadata": {},
   "outputs": [],
   "source": [
    "result = {}"
   ]
  },
  {
   "cell_type": "code",
   "execution_count": 103,
   "id": "373faa63-b3c2-4cfa-bbad-08af49db3301",
   "metadata": {},
   "outputs": [
    {
     "name": "stderr",
     "output_type": "stream",
     "text": [
      "The attention mask and the pad token id were not set. As a consequence, you may observe unexpected behavior. Please pass your input's `attention_mask` to obtain reliable results.\n",
      "Setting `pad_token_id` to `eos_token_id`:128001 for open-end generation.\n"
     ]
    },
    {
     "name": "stdout",
     "output_type": "stream",
     "text": [
      "Catalyst: TiO2\n",
      "Co-catalyst: Platinum, Silver\n",
      "Catalyst_set_up: Powder\n",
      "Reaction_medium: Liquid\n",
      "Reactor_type: Fixed-bed\n",
      "Operation_mode: Batch\n",
      "Lamp: SolarSimulator\n"
     ]
    },
    {
     "name": "stderr",
     "output_type": "stream",
     "text": [
      "The attention mask and the pad token id were not set. As a consequence, you may observe unexpected behavior. Please pass your input's `attention_mask` to obtain reliable results.\n",
      "Setting `pad_token_id` to `eos_token_id`:128001 for open-end generation.\n"
     ]
    },
    {
     "name": "stdout",
     "output_type": "stream",
     "text": [
      "Here are the extracted information:\n",
      "\n",
      "Catalyst: TiO2\n",
      "Co-catalyst: None mentioned\n",
      "Catalyst_set_up: Powder(Supported)\n",
      "Reaction_medium: Gas\n",
      "Reactor_type: Membrane\n",
      "Operation_mode: Batch\n",
      "Lamp: UV\n"
     ]
    },
    {
     "name": "stderr",
     "output_type": "stream",
     "text": [
      "The attention mask and the pad token id were not set. As a consequence, you may observe unexpected behavior. Please pass your input's `attention_mask` to obtain reliable results.\n",
      "Setting `pad_token_id` to `eos_token_id`:128001 for open-end generation.\n"
     ]
    },
    {
     "name": "stdout",
     "output_type": "stream",
     "text": [
      "Based on the provided context, I extracted the following information:\n",
      "\n",
      "Catalyst: TiO2\n",
      "Co-catalyst: None\n",
      "Catalyst_set_up: TiO2-coated optical fiber\n",
      "Reaction_medium: Liquid\n",
      "Reactor_type: Optical Fiber\n",
      "Operation_mode: Batch\n",
      "Lamp: None\n"
     ]
    },
    {
     "name": "stderr",
     "output_type": "stream",
     "text": [
      "The attention mask and the pad token id were not set. As a consequence, you may observe unexpected behavior. Please pass your input's `attention_mask` to obtain reliable results.\n",
      "Setting `pad_token_id` to `eos_token_id`:128001 for open-end generation.\n"
     ]
    },
    {
     "name": "stdout",
     "output_type": "stream",
     "text": [
      "Here is the extracted information:\n",
      "\n",
      "Catalyst: TiO2\n",
      "Co-catalyst: None\n",
      "Catalyst_set_up: Suspended\n",
      "Reaction_medium: Aqueous solutions, Liquid\n",
      "Reactor_type: Slurry, Fixed-bed\n",
      "Operation_mode: Batch, Continuous\n",
      "Lamp: Mercury, Xenon, Solar Simulator\n"
     ]
    },
    {
     "name": "stderr",
     "output_type": "stream",
     "text": [
      "The attention mask and the pad token id were not set. As a consequence, you may observe unexpected behavior. Please pass your input's `attention_mask` to obtain reliable results.\n",
      "Setting `pad_token_id` to `eos_token_id`:128001 for open-end generation.\n"
     ]
    },
    {
     "name": "stdout",
     "output_type": "stream",
     "text": [
      "Based on the provided context, I extracted the following information:\n",
      "\n",
      "Catalyst: Zirconium oxide\n",
      "Co-catalyst: Not mentioned\n",
      "Catalyst_set_up: Not mentioned\n",
      "Reaction_medium: Liquid\n",
      "Reactor_type: Not mentioned\n",
      "Operation_mode: Not mentioned\n",
      "Lamp: Not mentioned\n",
      "\n",
      "Note that the information provided is limited to the given context, and further information may be needed to provide a complete answer.\n"
     ]
    },
    {
     "name": "stderr",
     "output_type": "stream",
     "text": [
      "The attention mask and the pad token id were not set. As a consequence, you may observe unexpected behavior. Please pass your input's `attention_mask` to obtain reliable results.\n",
      "Setting `pad_token_id` to `eos_token_id`:128001 for open-end generation.\n"
     ]
    },
    {
     "name": "stdout",
     "output_type": "stream",
     "text": [
      "Catalyst: TiO2\n",
      "Co-catalyst: phosphoric acid, nitric acid, hydrochloric acid\n",
      "Catalyst_set_up: Powder\n",
      "Reaction_medium: Liquid, Gas\n",
      "Reactor_type: Slurry, Fixed-bed\n",
      "Operation_mode: Batch, Continuous\n",
      "Lamp: nan\n"
     ]
    },
    {
     "name": "stderr",
     "output_type": "stream",
     "text": [
      "The attention mask and the pad token id were not set. As a consequence, you may observe unexpected behavior. Please pass your input's `attention_mask` to obtain reliable results.\n",
      "Setting `pad_token_id` to `eos_token_id`:128001 for open-end generation.\n"
     ]
    },
    {
     "name": "stdout",
     "output_type": "stream",
     "text": [
      "Here is the extracted information:\n",
      "\n",
      "Catalyst: Pt/TO-NP, Pt/TO-NT\n",
      "Co-catalyst: None mentioned\n",
      "Catalyst_set_up: Powder(Suspended), Powder(Supported)\n",
      "Reaction_medium: Liquid\n",
      "Reactor_type: Fixed-bed, Slurry\n",
      "Operation_mode: Batch\n",
      "Lamp: UV light lamp\n"
     ]
    },
    {
     "name": "stderr",
     "output_type": "stream",
     "text": [
      "The attention mask and the pad token id were not set. As a consequence, you may observe unexpected behavior. Please pass your input's `attention_mask` to obtain reliable results.\n",
      "Setting `pad_token_id` to `eos_token_id`:128001 for open-end generation.\n"
     ]
    },
    {
     "name": "stdout",
     "output_type": "stream",
     "text": [
      "Based on the provided context, here is the extracted information:\n",
      "\n",
      "Catalyst: CuO–TiO2\n",
      "Co-catalyst: None mentioned\n",
      "Catalyst_set_up: Powder(Suspended)\n",
      "Reaction_medium: Liquid\n",
      "Reactor_type: Slurry\n",
      "Operation_mode: Batch\n",
      "Lamp: None mentioned\n"
     ]
    },
    {
     "name": "stderr",
     "output_type": "stream",
     "text": [
      "The attention mask and the pad token id were not set. As a consequence, you may observe unexpected behavior. Please pass your input's `attention_mask` to obtain reliable results.\n",
      "Setting `pad_token_id` to `eos_token_id`:128001 for open-end generation.\n"
     ]
    },
    {
     "name": "stdout",
     "output_type": "stream",
     "text": [
      "Catalyst: TiO2\n",
      "Co-catalyst: ZrO2\n",
      "Catalyst_set_up: Powder(Suspended)\n",
      "Reaction_medium: Gas\n",
      "Reactor_type: Monolithic\n",
      "Operation_mode: Batch\n",
      "Lamp: Near –UV or UV lamps\n"
     ]
    },
    {
     "name": "stderr",
     "output_type": "stream",
     "text": [
      "The attention mask and the pad token id were not set. As a consequence, you may observe unexpected behavior. Please pass your input's `attention_mask` to obtain reliable results.\n",
      "Setting `pad_token_id` to `eos_token_id`:128001 for open-end generation.\n"
     ]
    },
    {
     "name": "stdout",
     "output_type": "stream",
     "text": [
      "Based on the provided context, here is the extracted information:\n",
      "\n",
      "Catalyst: TiO2\n",
      "Co-catalyst: Cu (0.5 wt%)/TiO2\n",
      "Catalyst_set_up: Film, Nanosheets\n",
      "Reaction_medium: Liquid\n",
      "Reactor_type: Optical Fiber\n",
      "Operation_mode: Continuous\n",
      "Lamp: UVA\n"
     ]
    }
   ],
   "source": [
    "for i in range(10):\n",
    "    idx = i+1\n",
    "    paper_dir = \"./paper/paper_\"+ str(idx)+\".pdf\"\n",
    "    vector_store = get_rag(paper_dir, embed_model)\n",
    "    doc, temp = rag_llama(prompt_message, k = 3, embed_model = embed_model)\n",
    "    result[str(idx)] =  {\"location\": doc, \"extraction\": {}}\n",
    "    temp_list = temp.split(\"\\n\")\n",
    "    for line in temp_list:\n",
    "        print(line)\n",
    "        if \":\" in line:\n",
    "            try:\n",
    "                s, e = line.split(\": \")\n",
    "                result[str(idx)][\"extraction\"][s] = e\n",
    "            except:\n",
    "                pass"
   ]
  },
  {
   "cell_type": "code",
   "execution_count": 104,
   "id": "14e77a23-066f-42b8-a36d-8a97ddf1e77c",
   "metadata": {},
   "outputs": [
    {
     "data": {
      "text/plain": [
       "{'1': {'location': [(Document(page_content='2powder, which exhibits a great potential in improv-\\ning the TiO 2photocatalytic activity.\\nIliev et al. [37] modiﬁed the commercially available TiO 2catalyst\\n(Degussa P25) with nanosized platinum and silver particles by thephotoreduction method to obtain a different noble metal loading(0.5 and 1 wt.%). The degradation of oxalic acid has been studiedin aqueous solution photocatalyzed by irradiated TiO\\n2modiﬁed\\nwith nanosized silver particles. The photocatalytic activity of TiO 2,'),\n",
       "    4956.349),\n",
       "   (Document(page_content='2pow-\\nder samples by degradation of 1,4-dichlorobenzene (DCB). Silverwas deposited on TiO\\n2powders (Degussa P25) by the photodecom-\\nposition of two different silver salts, AgF and AgNO 3. They observed\\nthat the photocatalytic activity of Ag-loaded TiO 2ﬁlms was greater\\nthan that of pure TiO 2ﬁlms.\\nSeery et al. [34] described the synthesis of TiO 2containing dif-'),\n",
       "    5007.8975),\n",
       "   (Document(page_content='0926-3373/$ – see front matter © 2010 Elsevier B.V. All rights reserved.\\ndoi:10.1016/j.apcatb.2010.02.030240 K. Ko ˇcí et al. / Applied Catalysis B: Environmental 96 (2010) 239–244\\nFig. 1. Block scheme of the apparatus for CO 2photocatalytic reduction.\\nfor increasing yields of several types of photocatalytic reactions\\n[29–39] .\\nChang et al. [27,28] prepared nanocrystalline Ag/TiO 2composite'),\n",
       "    5063.3833)],\n",
       "  'extraction': {'Catalyst': 'TiO2',\n",
       "   'Co-catalyst': 'Platinum, Silver',\n",
       "   'Catalyst_set_up': 'Powder',\n",
       "   'Reaction_medium': 'Liquid',\n",
       "   'Reactor_type': 'Fixed-bed',\n",
       "   'Operation_mode': 'Batch',\n",
       "   'Lamp': 'SolarSimulator'}},\n",
       " '2': {'location': [(Document(page_content='10/C09st o1 0/C015s. Therefore, it is thought that the mass transfer is\\nthe inhibition factor to speed up photocatalyst reaction. Another\\nreason courses the low reforming rate is the re-oxidization of the\\nproducts. Namely, due to the reaction surface covered by products,Catalysis Today 148 (2009) 341–349\\nARTICLE INFO\\nArticle history:\\nAvailable online 3 August 2009\\nKeywords:\\nTiO 2photocatalyst\\nCO2reforming\\nMembrane reactor\\nGas separation membrane\\nSol–gel and dip-coating methodABSTRACT'),\n",
       "    4817.579),\n",
       "   (Document(page_content='(4)a-Alumina (Al 2O3)\\nsupporter1000 700 0.40 2.45 /C210/C015\\nSilica layer is the top layer of this gas separation membrane. g-Alumina layer is the\\nsecond layer. a-Alumina layer is the third layer. a-Alumina supporter is the bottom\\nlayer of gas separation membrane.\\nFig. 3. CO2reformer composed of TiO 2ﬁlm coated on gas separation membrane. (UV lamp is removed from this ﬁgure for understanding the inside of CO 2reformer.)'),\n",
       "    4958.835),\n",
       "   (Document(page_content='the starting of the batch type experiment, which demonstrates\\nthe effectiveness of preventing the steady reaction state and\\nreverse reaction from happening by using this membrane\\nreactor system, coated with TiO\\n2on CO 2reforming into fuel.\\nAcknowledgements\\nThis work is ﬁnancially supported by the Association for the\\nProgress of New Chemistry, and Grant-in-Aid for Young Scientists\\n(B) (20760605) in Japan.\\nReferences\\n[1] T. Inoue, A. Fujishima, S. Konishi, K. Honda, Nature 277 (1979) 637.'),\n",
       "    5117.3457)],\n",
       "  'extraction': {'Catalyst': 'TiO2',\n",
       "   'Co-catalyst': 'None mentioned',\n",
       "   'Catalyst_set_up': 'Powder(Supported)',\n",
       "   'Reaction_medium': 'Gas',\n",
       "   'Reactor_type': 'Membrane',\n",
       "   'Operation_mode': 'Batch',\n",
       "   'Lamp': 'UV'}},\n",
       " '3': {'location': [(Document(page_content='doi:10.1016/j.apcata.2005.08.021A variety of heterogeneous supports have been explored,\\nincluding glass surface [3,4], quartz rods [5]and monoliths\\n[6,7]. The transmission and uniform distribution of light energy\\nare important in designing a photoreactor, which differscompletely from a traditional reactor. TiO\\n2-coated ﬁber-optical\\ncable reactors have demonstrated some inherent advantagesover packed-bed reactors in photo reactions [8,9] .Fig. 1 shows'),\n",
       "    4637.156),\n",
       "   (Document(page_content='at 365 nm. The light intensity entering the quartz window could\\nbe adjusted from 1 to 16 W/cm\\n2. The whole OFPR wasJ.C.S. Wu et al. / Applied Catalysis A: General 296 (2005) 194–200 195\\nFig. 1. The schematic of light transmission and spread of TiO 2coated-optical\\nﬁber.\\nFig. 2. Photo of optical-ﬁber photoreactor.\\nFig. 3. Schematic of photo reaction system.wrapped using aluminum foil to avoid the interference of\\nindoor lamps during the reaction. Supercritical-ﬂuid grade CO 2'),\n",
       "    5028.943),\n",
       "   (Document(page_content='photo reduction of CO\\n2. One blank was UV-irradiated without\\nthe catalyst, and another was in the dark with the catalyst underthe same experimental conditions. No hydrocarbon wasdetected in the above blank tests.3. Results and discussion\\n3.1. Characteristics of catalysts\\nFig. 4 shows the SEM micrographs of bare optical ﬁber,\\ncross-section of Cu/TiO\\n2ﬁlm and top view of TiO 2ﬁlm on top\\nof the ﬁbers. The bare ﬁber was smooth after removingpolymeric shield, as shown in Fig. 4 (a). The thickness of'),\n",
       "    5071.753)],\n",
       "  'extraction': {'Catalyst': 'TiO2',\n",
       "   'Co-catalyst': 'None',\n",
       "   'Catalyst_set_up': 'TiO2-coated optical fiber',\n",
       "   'Reaction_medium': 'Liquid',\n",
       "   'Reactor_type': 'Optical Fiber',\n",
       "   'Operation_mode': 'Batch',\n",
       "   'Lamp': 'None'}},\n",
       " '4': {'location': [(Document(page_content='[5] H. Al-Ekabi and N. Serpone, Kinetics studies in het-\\nerogeneous photocatalysis. I. Photocatalytic degra-dation of chlorinated phenols in aerated aqueoussolutions over titania supported on a glass matrix,Journal of Physical Chemistry 92(1988), 5726.\\n[6] H. C. Yatmaz, C. Wallis, and C. R. Howarth, The\\nspinning disc reactor-studies on a novel TiO\\n2,\\nChemosphere 42(2001), 397.\\n[7] A. K. Ray, A new photocatalytic reactor for destruc-'),\n",
       "    4534.9736),\n",
       "   (Document(page_content='(1998), 221.\\n[3] S. Kuwabata, K. Nishida, R. Tsuda, H. Inoue, and\\nH. Yoneyama, Photochemical Reduction of CarbonDioxide to Methanol Using ZnS Microcrystallite asa Photocatalyst in the Presence of Methanol De-hydrogenase, J. Electrochem. Soc. 141(6) (1994),\\n1498.[4] K. Hirano, K. Inoue, and T. Yatsu, Photocatalysed\\nreduction of CO\\n2in aqueous TiO 2suspension\\nmixed with copper powder, J. Photochemical Pho-tobiology A: Chem. 64(1992), 255.\\n[5] H. Al-Ekabi and N. Serpone, Kinetics studies in het-'),\n",
       "    4787.111),\n",
       "   (Document(page_content='2.\\nPractical applications of TiO 2photocatalyst for the\\nremediation of vapor-phase CO 2streams often require\\nimmobilizing the photocatalyst in a packed-bed photoreactor. A variety of heterogeneous supports have been116 J. C. S. Wu and H.-M. Lin Vol. 07\\nTiO2\\nﬁber\\nFigure 1. The schematic of light transmission and spread\\nofTiO2coated-optical ﬁber.\\nFigure 2. Photo of optical-ﬁber photo reactor.\\nexplored including glass surface [5, 6], lamp casings [7],'),\n",
       "    4857.9014)],\n",
       "  'extraction': {'Catalyst': 'TiO2',\n",
       "   'Co-catalyst': 'None',\n",
       "   'Catalyst_set_up': 'Suspended',\n",
       "   'Reaction_medium': 'Aqueous solutions, Liquid',\n",
       "   'Reactor_type': 'Slurry, Fixed-bed',\n",
       "   'Operation_mode': 'Batch, Continuous',\n",
       "   'Lamp': 'Mercury, Xenon, Solar Simulator'}},\n",
       " '5': {'location': [(Document(page_content='tion at 773 K for 5 h in a dry air stream. The BET surfaceareawasfoundas68m\\n2g−1bynitrogenphysisorption. The\\nXRD pattern indicatedthat the resultingpowderwas a mix-tureofzirconiumoxideinmonoclinicandtetragonalphases.\\nThe photoreaction was carried out in a closed static sys-'),\n",
       "    4658.018),\n",
       "   (Document(page_content='variousheterogeneousphotocatalysts[6–17].\\nAmong these reports, titanium oxide or metal-loaded ti-\\ntanium oxide systems have mainly been used as photocat-alysts [6–10]. Zirconium belongs also to the 4A group onthePeriodicaltableandislistedattheperiodjustbelowtita-nium. However,onlyafewpapershavebeenreportedontheeffective photocatalysis by zirconium oxide. Sayama et al.\\nreportedthatzirconiumoxideshowedanexcellentphotocat-alytic activity under irradiation of light of λ<250 nm for'),\n",
       "    4864.6196),\n",
       "   (Document(page_content='2radicalsand also assist\\nthereactionofCO 2andformatewhichisderivedfromCO−\\n2\\nand hydrogen or methane. The formate works as a reduc-\\ntant and is not decomposed at a temperature below 573 K,\\nbut decomposed to CO at the higher temperature to 673 K.Inthecaseofphotoreductionbymethane,twokindsofinertcompoundsareformed;oneisacetateandtheotherispossi-blya polymericspecies. Theseareresistantto evacuationat773K.\\nReferences\\n[1] F. Solymosi, A. Erdöhelyi and T.Bánsági, J. Catal. 68 (1981) 371.'),\n",
       "    4890.0273)],\n",
       "  'extraction': {'Catalyst': 'Zirconium oxide',\n",
       "   'Co-catalyst': 'Not mentioned',\n",
       "   'Catalyst_set_up': 'Not mentioned',\n",
       "   'Reaction_medium': 'Liquid',\n",
       "   'Reactor_type': 'Not mentioned',\n",
       "   'Operation_mode': 'Not mentioned',\n",
       "   'Lamp': 'Not mentioned'}},\n",
       " '6': {'location': [(Document(page_content='contamination to protonate the reaction intermediates on the TiO 2powders. The gaseous reduction\\nproductsweresampledthroughasamplingvalveand analyzedbyusingFIDandTCDgaschroma-tography. Analyses of gaseous products were performed immediately after irradiation and additionof water or the aqueous solution. The liquid sample was analyzed by using high-performanceliquid chromatography with a UV detector.23 S. Kaneco et al./Energy 24 (1999) 21–30\\n2.2. ESR analysis'),\n",
       "    4734.9536),\n",
       "   (Document(page_content='reaction intermediates from the surface of the TiO 2particles [31]. Therefore, the acid solutions\\nwere effective for the protonation of intermediate products after the end of irradiation.\\nFig. 3. Effect of acid solutions on the yield of formicacid; irradiation time 55h ,T535°C,p59.0 MPa,protonation\\nby phosphoric acid ( I), nitric acid ( s) and hydrochloric acid ( D).27 S. Kaneco et al./Energy 24 (1999) 21–30\\n3.5. ESR characterization'),\n",
       "    4972.6885),\n",
       "   (Document(page_content='PII: S0360-544 2(98)00070-X22 S. Kaneco et al./Energy 24 (1999) 21–30\\nfor increasing the concentration of CO 2and improving the CO 2reduction selectivity [22,23]. At\\nbest, supercritical ﬂuid CO 2may be used as the medium, as is described here.\\nA ﬂuid is considered to be supercritical if its temperature and pressure both exceed the critical'),\n",
       "    5700.5312)],\n",
       "  'extraction': {'Catalyst': 'TiO2',\n",
       "   'Co-catalyst': 'phosphoric acid, nitric acid, hydrochloric acid',\n",
       "   'Catalyst_set_up': 'Powder',\n",
       "   'Reaction_medium': 'Liquid, Gas',\n",
       "   'Reactor_type': 'Slurry, Fixed-bed',\n",
       "   'Operation_mode': 'Batch, Continuous',\n",
       "   'Lamp': 'nan'}},\n",
       " '7': {'location': [(Document(page_content='whole system tightly sealed and turn on the UV light lamp to start\\nthe photoreaction process. Analysis of the feed stream and the\\nproduct mixtures was performed with an Agilent 6890 N gas\\nchromatograph with HP-PLOT Q column (30 m /C20.535 mm\\n/C240mm) and ﬂame ionisation detectors.\\n3. Results and discussion3.1. Morphological structure and texture of the catalysts\\nThe weight content of Pt in TiO\\n2nanoparticle (TO-NP) and TiO 2\\nnanotube (TO-NT) catalysts were 0.12 and 0.15%, respectively,'),\n",
       "    4570.0894),\n",
       "   (Document(page_content='was around 18 nm, and after the Pt-metal impregnation process\\ntheDpincreased to about 30 nm resulted from recrystallization of\\nTiO 2to anatase phase.\\nFig. 2. XRD patterns of TiO 2nanotube (TO-NT), 0.15Pt/TO-NT, TiO 2nanoparticle\\n(TO-NP), and 0.12Pt/TO-NP samples.\\nFig. 3. HRTEM images of 0.12Pt/TO-NP (a) and 0.15Pt/TO-NT (b) catalysts.Q.-H. Zhang et al. / Catalysis Today 148 (2009) 335–340 337The physicochemical properties of the catalysts were summar-'),\n",
       "    4730.609),\n",
       "   (Document(page_content='0920-5861/$ – see front matter /C2232009 Elsevier B.V. All rights reserved.\\ndoi:10.1016/j.cattod.2009.07.0812. Experimental\\n2.1. Catalyst preparation\\nAll chemicals used in this work were AR reagents, except where\\notherwise indicated. TiO 2(P25, a highly dispersed titanium oxide\\nfrom Degussa) was entitled TO-NP in the experiment. Low-\\ndimensional TiO 2nanotube (TO-NT) was produced via high\\ntemperature hydrothermal methods. TO-NP (5 g) and an aqueous'),\n",
       "    4747.4316)],\n",
       "  'extraction': {'Catalyst': 'Pt/TO-NP, Pt/TO-NT',\n",
       "   'Co-catalyst': 'None mentioned',\n",
       "   'Catalyst_set_up': 'Powder(Suspended), Powder(Supported)',\n",
       "   'Reaction_medium': 'Liquid',\n",
       "   'Reactor_type': 'Fixed-bed, Slurry',\n",
       "   'Operation_mode': 'Batch',\n",
       "   'Lamp': 'UV light lamp'}},\n",
       " '8': {'location': [(Document(page_content='outlet valve, (8) magnetic stirrer, (9) circulating pump, (10) thermostatic waterbath.\\nFig. 2. XRD pattern of 1.0CuO–TiO 2(CTAB, 450 /C176C).258 S. Qin et al. / Journal of Colloid and Interface Science 356 (2011) 257–261Modiﬁcation of TiO 2with CuO loading resulted in abrupt increase\\nof the photocatalytic activity because CuO and TiO 2formed\\ncomposite catalysts and the recombination of photo-generatedelectron and hole was restrained. However, higher CuO content'),\n",
       "    4648.7236),\n",
       "   (Document(page_content='room temperature to 450 /C176C and kept for 6 h. The molar ratio of\\n0021-9797/$ - see front matter /C2112010 Elsevier Inc. All rights reserved.\\ndoi:10.1016/j.jcis.2010.12.034⇑Corresponding author. Fax: +86 22 27892359.\\nE-mail address: xinf@tju.edu.cn (F. Xin).Journal of Colloid and Interface Science 356 (2011) 257–261\\nContents lists available at ScienceDirect\\nJournal of Colloid and Interface Science\\nwww.elsevier.com/locate/jcis\\nTBOT + Cu(NO 3)2: CTAB was 1:0.12. The catalysts were assignated'),\n",
       "    5028.7656),\n",
       "   (Document(page_content='Received 15 October 2010\\nAccepted 7 December 2010Available online 15 December 2010\\nKeywords:\\nPhotocatalysisPhotocatalytic reduction of CO\\n2\\nComposite semiconductorMethanolMethyl formateabstract\\nPhotocatalytic reduction of CO 2on CuO–TiO 2composite catalysts in the presence of methanol to prepare\\nmethyl formate had been investigated. Methanol was used as sacriﬁcial reagent to react with the photo-generated holes in the valence band, and CO'),\n",
       "    5056.523)],\n",
       "  'extraction': {'Catalyst': 'CuO–TiO2',\n",
       "   'Co-catalyst': 'None mentioned',\n",
       "   'Catalyst_set_up': 'Powder(Suspended)',\n",
       "   'Reaction_medium': 'Liquid',\n",
       "   'Reactor_type': 'Slurry',\n",
       "   'Operation_mode': 'Batch',\n",
       "   'Lamp': 'None mentioned'}},\n",
       " '9': {'location': [(Document(page_content='photocatalysts.\\nThe reaction products in the outlet gas stream were\\nfurther sampled by a gas-tight syringe and analyzedwith two gas chromatographs. One gas chromatographARTICLE IN PRESS\\n300mm300mm\\nPhotocatalytic Reactor22.5mm\\n25mm5mmNear –UV or\\n  UV lamps\\n90mm\\nTiO2/ZrO2 immobilized pellets gas outlet gas inlet thermocouple300mm 90mm\\nglass wool glass wool\\nFig. 2. Schematic of photocatalytic reactor.Pyrex glass pellets\\n(Φ=3.0 mm)\\nDrying\\n(105 °C, 1 hr)TiO2 2.5% (W/W)\\nslurryTiO2 powder'),\n",
       "    4498.0127),\n",
       "   (Document(page_content='(Φ=3.0 mm)\\nDrying\\n(105 °C, 1 hr)TiO2 2.5% (W/W)\\nslurryTiO2 powder\\n(Degussa P-25)ZrO2 powder\\nZrO2 10% (W/W)\\nslurryEtching\\n(5.0 M NaOH solution, 100 °C)\\nSoaking\\n(10-20 min)Rinsing\\n(D. I. water)\\nTiO2/ZrO2 coated glass pelletsThickness of TiO2 layer\\n(~145 µm)\\nYesNo\\nFig. 3. Flowchart of photocatalyst preparation procedure.C.-C. Lo et al. / Solar Energy Materials & Solar Cells 91 (2007) 1765–1774 1767with a thermal conductivity detector (GC/TCD) (HP,'),\n",
       "    4651.5547),\n",
       "   (Document(page_content='parameters of the photocatalytic reduction reaction,including the species of photocatalysts and reductants[19,20,26,32,34] , the wavelength of illuminating light\\n[25,27] , the reaction temperature [22,27,29] , and even the\\nconﬁguration of reactors [35]. Photocatalysts such as TiO\\n2,\\nZrO 2, ZnO and CdS have been investigated and, among\\nthem, TiO 2is the most commonly used photocatalyst,'),\n",
       "    4940.665)],\n",
       "  'extraction': {'Catalyst': 'TiO2',\n",
       "   'Co-catalyst': 'ZrO2',\n",
       "   'Catalyst_set_up': 'Powder(Suspended)',\n",
       "   'Reaction_medium': 'Gas',\n",
       "   'Reactor_type': 'Monolithic',\n",
       "   'Operation_mode': 'Batch',\n",
       "   'Lamp': 'Near –UV or UV lamps'}},\n",
       " '10': {'location': [(Document(page_content='surface ineffective in a photo-driven reaction. The transmis-\\nsion and uniform distribution of light energy are important indesigning a photoreactor that differs completely from a tra-\\nditional reactor. Hofstadler et al. [ 20] used titanium dioxide-\\ncoated fused-silica glass ﬁbers for wastewater treatment.As i n g l eT i O\\n2-coated ﬁber-optic reactor was designed by\\nDanion et al. [ 21]. The TiO 2-coated optical ﬁber photoreactor'),\n",
       "    4650.8667),\n",
       "   (Document(page_content='could be aggregated under very low pH value or UV irradi-\\nation to form dimer molecules. These dimer molecules thatTable 2 Production rate of methane and ethylene over various\\nphotocatalysts under UVA\\nPhotocatalystaEthylene\\nproduction rate\\n(lmol/g h)bMethane\\nproduction rate\\n(lmol/g h)b\\nTiO 2–SiO 2-acac *0 0.185\\nCu(0.5 wt%)–Fe(0.5 wt%)/\\nTiO 2–SiO 2-acac0.211 1.860\\naTiO 2–SiO 2was synthesized by sol-gel process with 5 wt% of SiO 2;'),\n",
       "    4760.6924),\n",
       "   (Document(page_content='ﬁlms are consisted of very ﬁne close-packed particles withdiameters of 10–20 nm.\\nThe XRD spectra in Fig. 5show the diffraction patterns\\nof TiO\\n2, Cu/TiO 2and Ag/TiO 2ﬁlms. Thermal treatment at\\n500/C176C for 5 h results in well crystallized anatase-type\\nTiO 2. No other diffraction peak is observed in the XRD\\nLight\\nsourceQuartz tube\\nOptical fibersStainless supportin\\nout\\nFig. 3 Schematic of optical-ﬁber photoreactorPhotocatalytic Reduction of Greenhouse Gas CO 2to Fuel 33'),\n",
       "    4960.6406)],\n",
       "  'extraction': {'Catalyst': 'TiO2',\n",
       "   'Co-catalyst': 'Cu (0.5 wt%)/TiO2',\n",
       "   'Catalyst_set_up': 'Film, Nanosheets',\n",
       "   'Reaction_medium': 'Liquid',\n",
       "   'Reactor_type': 'Optical Fiber',\n",
       "   'Operation_mode': 'Continuous',\n",
       "   'Lamp': 'UVA'}}}"
      ]
     },
     "execution_count": 104,
     "metadata": {},
     "output_type": "execute_result"
    }
   ],
   "source": [
    "result"
   ]
  },
  {
   "cell_type": "code",
   "execution_count": 115,
   "id": "d0c48412-485c-4d45-93e8-3f356ba96348",
   "metadata": {},
   "outputs": [],
   "source": [
    "for i in range(10):\n",
    "    idx = i+1\n",
    "    temp = []\n",
    "    for doc in result[str(idx)][\"location\"]:\n",
    "        temp.append(doc[0].page_content)\n",
    "    result[str(idx)][\"location\"] = temp"
   ]
  },
  {
   "cell_type": "code",
   "execution_count": 116,
   "id": "4bc3593a-75f6-4dc2-a78f-cc0da499a085",
   "metadata": {},
   "outputs": [
    {
     "data": {
      "text/plain": [
       "['2powder, which exhibits a great potential in improv-\\ning the TiO 2photocatalytic activity.\\nIliev et al. [37] modiﬁed the commercially available TiO 2catalyst\\n(Degussa P25) with nanosized platinum and silver particles by thephotoreduction method to obtain a different noble metal loading(0.5 and 1 wt.%). The degradation of oxalic acid has been studiedin aqueous solution photocatalyzed by irradiated TiO\\n2modiﬁed\\nwith nanosized silver particles. The photocatalytic activity of TiO 2,',\n",
       " '2pow-\\nder samples by degradation of 1,4-dichlorobenzene (DCB). Silverwas deposited on TiO\\n2powders (Degussa P25) by the photodecom-\\nposition of two different silver salts, AgF and AgNO 3. They observed\\nthat the photocatalytic activity of Ag-loaded TiO 2ﬁlms was greater\\nthan that of pure TiO 2ﬁlms.\\nSeery et al. [34] described the synthesis of TiO 2containing dif-',\n",
       " '0926-3373/$ – see front matter © 2010 Elsevier B.V. All rights reserved.\\ndoi:10.1016/j.apcatb.2010.02.030240 K. Ko ˇcí et al. / Applied Catalysis B: Environmental 96 (2010) 239–244\\nFig. 1. Block scheme of the apparatus for CO 2photocatalytic reduction.\\nfor increasing yields of several types of photocatalytic reactions\\n[29–39] .\\nChang et al. [27,28] prepared nanocrystalline Ag/TiO 2composite']"
      ]
     },
     "execution_count": 116,
     "metadata": {},
     "output_type": "execute_result"
    }
   ],
   "source": [
    "result[\"1\"][\"location\"]"
   ]
  },
  {
   "cell_type": "code",
   "execution_count": 117,
   "id": "9677242c-ffe2-4265-aa71-706500fa6c28",
   "metadata": {},
   "outputs": [],
   "source": [
    "import json\n",
    "with open(\"result_llama3_8b.json\", \"w\") as f:\n",
    "    json.dump(result, f)"
   ]
  },
  {
   "cell_type": "code",
   "execution_count": null,
   "id": "2978407f-5c37-4e60-8cd8-45dd48a1ae54",
   "metadata": {},
   "outputs": [],
   "source": []
  }
 ],
 "metadata": {
  "kernelspec": {
   "display_name": "Python 3 (ipykernel)",
   "language": "python",
   "name": "python3"
  },
  "language_info": {
   "codemirror_mode": {
    "name": "ipython",
    "version": 3
   },
   "file_extension": ".py",
   "mimetype": "text/x-python",
   "name": "python",
   "nbconvert_exporter": "python",
   "pygments_lexer": "ipython3",
   "version": "3.10.6"
  }
 },
 "nbformat": 4,
 "nbformat_minor": 5
}
